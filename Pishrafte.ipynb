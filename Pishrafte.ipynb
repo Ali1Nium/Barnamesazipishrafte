{
 "cells": [
  {
   "cell_type": "code",
   "execution_count": null,
   "id": "6f5f6e7a",
   "metadata": {},
   "outputs": [],
   "source": [
    "print(\"Welcome to Python Turorials\")\n",
    "\n",
    "print(\"Welcome \\\n",
    "to \\\n",
    "Python \\\n",
    "Tutorials!\")\n",
    "\n",
    "print(\"Hello World!\")\n"
   ]
  },
  {
   "cell_type": "code",
   "execution_count": null,
   "id": "00667fb7",
   "metadata": {},
   "outputs": [],
   "source": [
    "print(\"We can print a \\\\ by using the \\\\ escape sequence!\")"
   ]
  },
  {
   "cell_type": "code",
   "execution_count": null,
   "id": "97d14536",
   "metadata": {},
   "outputs": [],
   "source": [
    "print(\"C:\\\\Program Files \\\\ Sone directory\\\\somefile.txt\")"
   ]
  },
  {
   "cell_type": "code",
   "execution_count": null,
   "id": "43e4eb27",
   "metadata": {},
   "outputs": [],
   "source": [
    "print(\"I said, \\\"Motivate yourself!\\\".\")"
   ]
  },
  {
   "cell_type": "code",
   "execution_count": null,
   "id": "8919b554",
   "metadata": {},
   "outputs": [],
   "source": [
    "print(\"The programmer\\'s heaven'\")"
   ]
  },
  {
   "cell_type": "code",
   "execution_count": null,
   "id": "bbba6a0d",
   "metadata": {},
   "outputs": [],
   "source": [
    "print(\"Left\\tright\")"
   ]
  },
  {
   "cell_type": "code",
   "execution_count": null,
   "id": "7a66fc5a",
   "metadata": {},
   "outputs": [],
   "source": [
    "print(\"\\u00A9\")"
   ]
  },
  {
   "cell_type": "code",
   "execution_count": null,
   "id": "bad69348",
   "metadata": {},
   "outputs": [],
   "source": [
    "intVar = 10 \n",
    "floatVar = 12.5\n",
    "BooldVar = True\n",
    "StringVar = \"Hello world!\"\n",
    "listVar = [1, 5, 8]\n",
    "tupleVar = (\"Python\", \"Programming\", \"begginer\")\n",
    "dictionaryVar = {\"Name\" : \"Jack\", \"Family\" : \"Scalia\", \"Age\":7}\n",
    "\n",
    "print(\"Intvar = {0}\".format(intVar))\n",
    "print(\"floatVar = {0}\".format(floatVar))\n",
    "print(\"BooldVar = {0}\".format(BooldVar))\n",
    "print(\"StringVar = {0}\".format(StringVar))\n",
    "print(\"ListVar = {0}\".format(listVar))\n",
    "print(\"TupleVar = {0}\".format(tupleVar))\n",
    "print(\"DicVar = {0}\".format(dictionaryVar))"
   ]
  },
  {
   "cell_type": "code",
   "execution_count": null,
   "id": "9d4d8f19",
   "metadata": {},
   "outputs": [],
   "source": [
    "num1 = num2 = num3 = num4 = num5 = 10\n",
    "msg1 = msg2 = msg3 = \"Hello World!\"\n",
    "\n",
    "print(num3)\n",
    "\n",
    "print(msg2)"
   ]
  },
  {
   "cell_type": "code",
   "execution_count": null,
   "id": "c6afe643",
   "metadata": {},
   "outputs": [],
   "source": [
    "num1, num2, msg1 =10, 12.5, \"Hello World!\"\n",
    "\n",
    "print(num1)\n",
    "print(num2)\n",
    "print(msg1)"
   ]
  },
  {
   "cell_type": "code",
   "execution_count": null,
   "id": "23b5f0ea",
   "metadata": {},
   "outputs": [],
   "source": [
    "print(msg1[6])"
   ]
  },
  {
   "cell_type": "code",
   "execution_count": null,
   "id": "9c5d36fc",
   "metadata": {},
   "outputs": [],
   "source": [
    "print(listVar[2])\n",
    "print(tupleVar[1])"
   ]
  },
  {
   "cell_type": "code",
   "execution_count": null,
   "id": "3d557d15",
   "metadata": {},
   "outputs": [],
   "source": [
    "print(dictionaryVar[\"Family\"])"
   ]
  },
  {
   "cell_type": "code",
   "execution_count": null,
   "id": "5639c2f4",
   "metadata": {},
   "outputs": [],
   "source": [
    "num1 = 5\n",
    "num2 = 3\n",
    "\n",
    "print(\"The sam of {0} and {1} is {2}\".format(num1, num2, (num1 + num2)))\n",
    "print(\"The difference of {0} and {1} is {2}\".format(num1, num2, (num1 - num2)))\n",
    "print(\"The product of {0} and {1} is {2}\".format(num1, num2, (num1 * num2)))\n",
    "print(\"The quotient of {0} and {1} is {2}\".format(num1, num2, (num1 / num2)))\n",
    "print(\"The remainder of {0} and {1} is {2}\".format(num1, num2, (num1 % num2)))\n",
    "print(\"The result of {0} and {1} is {2}\".format(num1, num2, (num1 ** num2)))\n",
    "print(\"The quotient of {0} and {1} is {2}\".format(num1, num2, (num1 // num2)))"
   ]
  },
  {
   "cell_type": "code",
   "execution_count": null,
   "id": "bee14a80",
   "metadata": {},
   "outputs": [],
   "source": [
    "msg1 = \"Hello \"\n",
    "msg2 = \"World!\"\n",
    "\n",
    "print(msg1 +msg2)"
   ]
  },
  {
   "cell_type": "code",
   "execution_count": null,
   "id": "28aa2deb",
   "metadata": {},
   "outputs": [],
   "source": [
    "print(\"Assigning 10 to number ...\")\n",
    "number = 10 \n",
    "print(\"Number = {0}\".format(number))\n",
    "\n",
    "print(\"Adding 10 to number ....\")\n",
    "number += 10 \n",
    "print(\"Number = {0}\".format(number))\n",
    "\n",
    "print(\"Subtracting 10 from number ...\")\n",
    "number -= 10 \n",
    "print(\"Number = {0}\".format(number))"
   ]
  },
  {
   "cell_type": "code",
   "execution_count": null,
   "id": "3089b699",
   "metadata": {},
   "outputs": [],
   "source": [
    "num1 =10 \n",
    "num2 = 5 \n",
    "\n",
    "\n",
    "print(\"{0} == {1} : {2}\".format(num1, num2, num1 == num2))\n",
    "print(\"{0} != {1} : {2}\".format(num1, num2, num1 != num2))\n",
    "print(\"{0} <> {1} : {2}\".format(num1, num2, num1 != num2))\n",
    "print(\"{0} > {1} : {2}\".format(num1, num2, num1 > num2))\n",
    "print(\"{0} < {1} : {2}\".format(num1, num2, num1 < num2))\n",
    "print(\"{0} <= {1} : {2}\".format(num1, num2, num1 <= num2))\n",
    "print(\"{0} >= {1} : {2}\".format(num1, num2, num1 >= num2))"
   ]
  },
  {
   "cell_type": "code",
   "execution_count": null,
   "id": "defecef7",
   "metadata": {},
   "outputs": [],
   "source": [
    "print(5 in [3, 8, 5, 10])\n",
    "print(5 not in [3, 8, 5, 10])"
   ]
  },
  {
   "cell_type": "code",
   "execution_count": null,
   "id": "09df751a",
   "metadata": {},
   "outputs": [],
   "source": [
    "num1 = 5\n",
    "num2 = 6 \n",
    "\n",
    "print(num1 is num2)\n",
    "print(num1 is not num2)"
   ]
  },
  {
   "cell_type": "code",
   "execution_count": null,
   "id": "2096f7cd",
   "metadata": {},
   "outputs": [],
   "source": [
    "name = input(\"Enter your name :\")\n",
    "age = input(\"Enter your name :\")\n",
    "height = input(\"Enter your Height :\")\n",
    "print()\n",
    "\n",
    "print(\"Name is {0} \\nAge is {1} \\nHiehgt is {2}\".format(name, age, height))"
   ]
  },
  {
   "cell_type": "code",
   "execution_count": null,
   "id": "c0cdfcc2",
   "metadata": {},
   "outputs": [],
   "source": [
    "num1 = 5 \n",
    "\n",
    "if num1 <10 :\n",
    "    print(\"Hello wolrd\")\n",
    "    \n",
    "num = 15 \n",
    "\n",
    "if num >10 : \n",
    "    print(\"Goodbye Word\")"
   ]
  },
  {
   "cell_type": "code",
   "execution_count": null,
   "id": "2a64157c",
   "metadata": {},
   "outputs": [],
   "source": [
    "x= 15 \n",
    "\n",
    "if x>10 :\n",
    "    print (\"x is greter than 10 \")\n",
    "    print(\"This is still part of the if statement\")\n",
    "    "
   ]
  },
  {
   "cell_type": "code",
   "execution_count": null,
   "id": "cb491c43",
   "metadata": {},
   "outputs": [],
   "source": [
    "if x>10 :\n",
    "    print (\"x is greter than 10 \")\n",
    "    \n",
    "print(\"This is not part of the if statement\")"
   ]
  },
  {
   "cell_type": "code",
   "execution_count": null,
   "id": "59dd138e",
   "metadata": {},
   "outputs": [],
   "source": [
    "FirstNum = input(\"Enter a number :\")\n",
    "SecondNum = input(\"Enter second Num :\") \n",
    "\n",
    "if FirstNum == SecondNum :\n",
    "    print(\"{0} == {1}\".format(FirstNum, SecondNum))\n",
    "    \n",
    "if FirstNum != SecondNum :\n",
    "    print(\"{0} != {1}\".format(FirstNum, SecondNum))\n",
    "\n",
    "if FirstNum < SecondNum :\n",
    "    print(\"{0} < {1}\".format(FirstNum, SecondNum))\n",
    "\n",
    "if FirstNum > SecondNum :\n",
    "    print(\"{0} > {1}\".format(FirstNum, SecondNum))\n",
    "    \n",
    "if FirstNum <= SecondNum :\n",
    "    print(\"{0} <= {1}\".format(FirstNum, SecondNum))\n",
    "    \n",
    "if FirstNum >= SecondNum :\n",
    "    print(\"{0} >= {1}\".format(FirstNum, SecondNum))\n"
   ]
  },
  {
   "cell_type": "code",
   "execution_count": null,
   "id": "91d7bc24",
   "metadata": {},
   "outputs": [],
   "source": []
  }
 ],
 "metadata": {
  "kernelspec": {
   "display_name": "Python 3 (ipykernel)",
   "language": "python",
   "name": "python3"
  },
  "language_info": {
   "codemirror_mode": {
    "name": "ipython",
    "version": 3
   },
   "file_extension": ".py",
   "mimetype": "text/x-python",
   "name": "python",
   "nbconvert_exporter": "python",
   "pygments_lexer": "ipython3",
   "version": "3.9.13"
  }
 },
 "nbformat": 4,
 "nbformat_minor": 5
}
