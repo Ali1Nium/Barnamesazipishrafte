{
 "cells": [
  {
   "cell_type": "code",
   "execution_count": null,
   "id": "9848c044",
   "metadata": {},
   "outputs": [],
   "source": [
    "a1 = str(input(\"Enter First Str :\"))\n",
    "b1 = str(input(\"Enter Second Str :\"))\n",
    "c1 = len(a1)\n",
    "d1 = len(b1)\n",
    "if c1>d1 :\n",
    "    print(\"Tedad a bishtar Ast !\")\n",
    "elif d1>c1 :\n",
    "    print(\"Tedad b bishtar Ast !\")\n",
    "else :\n",
    "    print(\"Tedad Mosavi Ast!\")\n",
    "    "
   ]
  },
  {
   "cell_type": "code",
   "execution_count": 1,
   "id": "ca8a7c69",
   "metadata": {},
   "outputs": [
    {
     "name": "stdout",
     "output_type": "stream",
     "text": [
      "Enter Num1 :10\n",
      "Enter Num2 :10\n",
      "Enter Num3 :20\n",
      "Rishe haghighi Vojod nadard !\n"
     ]
    }
   ],
   "source": [
    "a2 = int(input(\"Enter Num1 :\"))\n",
    "b2 = int(input(\"Enter Num2 :\"))\n",
    "c2 = int(input(\"Enter Num3 :\"))\n",
    "\n",
    "x2 = b2**2 \n",
    "y2 = a2*c2\n",
    "j2 = 4*y2 \n",
    "\n",
    "if (x2-j2)<0:\n",
    "    print(\"Rishe haghighi Vojod nadard !\")\n",
    "elif (x2-j2)==0 :\n",
    "    print(\"Yek rishe darad : {}\".format(x2-j2))\n",
    "else :\n",
    "    print(\"2 rishe Vojod darad {},{}\".format((x2-j2), -(x2-j2)))"
   ]
  },
  {
   "cell_type": "code",
   "execution_count": 2,
   "id": "6c3597fc",
   "metadata": {},
   "outputs": [
    {
     "name": "stdout",
     "output_type": "stream",
     "text": [
      "Enter First Num :10\n",
      "Enter Second Num :10\n",
      "Enter 3th Num :20\n",
      "Motevazi Saghein!\n"
     ]
    }
   ],
   "source": [
    "a3 = int(input(\"Enter First Num :\"))\n",
    "b3 = int(input(\"Enter Second Num :\"))\n",
    "c3 = int(input(\"Enter 3th Num :\"))\n",
    "\n",
    "if (a3+b3)>c3 or (b3+c3)>a3 or (a3+c3)>b3:\n",
    "    if (a3==b3) and (a3==c3):\n",
    "        print(\"Motevazi azlaa!\")\n",
    "    elif (a3!=b3) and (a3!=c3) and (b3!=c3):\n",
    "        print(\"Mokhtalef azlaa!\")\n",
    "    elif (a3==b3) or (a3==b3) or (b3==c3):\n",
    "        print(\"Motevazi Saghein!\")\n",
    "else :\n",
    "    print(\"Mosalas nist!\")\n",
    "    \n",
    "    "
   ]
  },
  {
   "cell_type": "code",
   "execution_count": null,
   "id": "1fd534f1",
   "metadata": {},
   "outputs": [],
   "source": []
  }
 ],
 "metadata": {
  "kernelspec": {
   "display_name": "Python 3 (ipykernel)",
   "language": "python",
   "name": "python3"
  },
  "language_info": {
   "codemirror_mode": {
    "name": "ipython",
    "version": 3
   },
   "file_extension": ".py",
   "mimetype": "text/x-python",
   "name": "python",
   "nbconvert_exporter": "python",
   "pygments_lexer": "ipython3",
   "version": "3.9.13"
  }
 },
 "nbformat": 4,
 "nbformat_minor": 5
}
