{
 "cells": [
  {
   "cell_type": "code",
   "execution_count": null,
   "id": "15f54a0f",
   "metadata": {},
   "outputs": [],
   "source": [
    "import numpy as np \n",
    "import pandas as pd \n",
    "import sklearn \n",
    "from sklearn.model_selection import train_test_split\n",
    "from sklearn.linear_model import LogisticRegression\n",
    "from sklearn import tree"
   ]
  },
  {
   "cell_type": "code",
   "execution_count": null,
   "id": "07b843e5",
   "metadata": {},
   "outputs": [],
   "source": [
    "#Reading Dataset\n",
    "Btc = pd.read_csv(\"C:/Users/Ali/Desktop/Datasets/Btc.csv\")"
   ]
  },
  {
   "cell_type": "code",
   "execution_count": null,
   "id": "c8e9c052",
   "metadata": {},
   "outputs": [],
   "source": [
    "#Data \n",
    "Btc.drop([\"End\", \"Open\", \"High\", \"Low\", \"Volume\"], axis=1, inplace = True)\n",
    "Btc.columns = [\"Time\",\"Price\",\"Marketcap\"]\n",
    "Btc.sort_values(by=[\"Time\"])"
   ]
  },
  {
   "cell_type": "code",
   "execution_count": null,
   "id": "97ae4ea4",
   "metadata": {},
   "outputs": [],
   "source": [
    "L1 = []\n",
    "for i in Btc.Marketcap:\n",
    "    L1.append(i)\n",
    "\n",
    "L1 = np.array(L1)\n",
    "\n",
    "Data_type = int\n",
    "Btc.Marketcap = np.array(L1, dtype =Data_type)"
   ]
  },
  {
   "cell_type": "code",
   "execution_count": null,
   "id": "f99891cb",
   "metadata": {},
   "outputs": [],
   "source": [
    "#model\n",
    "x = Btc[\"Marketcap\"]\n",
    "y = Btc[\"Price\"]\n",
    "xtrain,xtest,ytrain,ytest = train_test_split(x, y, test_size=0.33, random_state=42)\n"
   ]
  },
  {
   "cell_type": "code",
   "execution_count": null,
   "id": "06347317",
   "metadata": {},
   "outputs": [],
   "source": [
    "model = LogisticRegression()\n",
    "model.fit(xtrain, ytrain)"
   ]
  },
  {
   "cell_type": "code",
   "execution_count": null,
   "id": "5e4a5b0b",
   "metadata": {},
   "outputs": [],
   "source": [
    "y_pred = model.predict(xtest)"
   ]
  },
  {
   "cell_type": "code",
   "execution_count": null,
   "id": "2c5683e4",
   "metadata": {},
   "outputs": [],
   "source": []
  }
 ],
 "metadata": {
  "kernelspec": {
   "display_name": "Python 3 (ipykernel)",
   "language": "python",
   "name": "python3"
  },
  "language_info": {
   "codemirror_mode": {
    "name": "ipython",
    "version": 3
   },
   "file_extension": ".py",
   "mimetype": "text/x-python",
   "name": "python",
   "nbconvert_exporter": "python",
   "pygments_lexer": "ipython3",
   "version": "3.9.13"
  }
 },
 "nbformat": 4,
 "nbformat_minor": 5
}
